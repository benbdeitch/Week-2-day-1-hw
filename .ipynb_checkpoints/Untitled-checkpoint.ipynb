{
 "cells": [
  {
   "cell_type": "code",
   "execution_count": 4,
   "id": "4b4c7700",
   "metadata": {},
   "outputs": [
    {
     "name": "stdout",
     "output_type": "stream",
     "text": [
      "How much health should the player have?\n",
      "100\n",
      "How much health should the monster have?\n",
      "60\n",
      "Choose your moves! Type in four values, with | representing the gap between them.Air|Earth|Fire|Water\n",
      "********Choose your move!********\n",
      "*********************************\n",
      "Pick from 1-43\n",
      "You used Fire, it was not very effective.\n",
      "You dealt 27 damage. The monster has 33 health left.\n",
      "Now, the monster attacks!\n",
      "It bites you for 31 damage!\n",
      "********Choose your move!********\n",
      "*********************************\n",
      "Pick from 1-42\n",
      "You used Earth, it was somewhat effective.\n",
      "You dealt 46 damage. The monster has -13 health left.\n",
      "Through grave danger, you have triumphed, and rid the world of the horrible monster!\n"
     ]
    }
   ],
   "source": [
    "import random\n",
    "\n",
    "def monsterBattler():\n",
    "    playerHealth = input(\"How much health should the player have?\\n\")\n",
    "    monsterHealth = input(\"How much health should the monster have?\\n\")\n",
    "    moveSet = input(\"Choose your moves! Type in four values, with | representing the gap between them.\")\n",
    "    gameOver = False\n",
    "    heroVictory = False\n",
    "    effective = \"not very effective\"\n",
    "    random.seed()\n",
    "    try:\n",
    "        playerHealth = int(playerHealth)\n",
    "        monsterHealth = int(monsterHealth)\n",
    "        placeholder= moveSet.split(\"|\")\n",
    "        trueMoveSet = []\n",
    "        for i in range(4):\n",
    "            trueMoveSet.append(placeholder[i][0:15])\n",
    "    except:\n",
    "        print(\"Do a better job at following instructions, next time.\")\n",
    "        gameOver= True\n",
    "\n",
    "    #Formatting the moves. \n",
    "    \n",
    "\n",
    "    # combat loop\n",
    "    while not gameOver: \n",
    "        print(\"Choose your move!\".center(33,'*')+ \"\\n\" + \"*\".center(33,'*'))\n",
    "        moveUsed = input(\"Pick from 1-4\")\n",
    "        playerDamage = hash(trueMoveSet[int(moveUsed)-1]) % 100;\n",
    "        if playerDamage <33:\n",
    "            effective = \"not very effective.\"\n",
    "        elif playerDamage <66:\n",
    "            effective = \"somewhat effective.\"\n",
    "        else:\n",
    "            effective = \"very effective. Wow!\"\n",
    "        monsterHealth = monsterHealth - playerDamage\n",
    "        print(\"You used {}, it was {}\".format(trueMoveSet[int(moveUsed)-1],effective))\n",
    "        print(\"You dealt {} damage. The monster has {} health left.\".format(str(playerDamage), str(monsterHealth)))\n",
    "        if monsterHealth <= 0:\n",
    "            gameOver = True;\n",
    "            heroVictory = True; \n",
    "            break;\n",
    "        print(\"Now, the monster attacks!\")\n",
    "        monsterDamage = random.randrange(20,40)\n",
    "        print(\"It bites you for {} damage!\".format(str(monsterDamage)))\n",
    "        playerHealth = playerHealth - monsterDamage\n",
    "        if playerHealth <=0:\n",
    "            gameOver = True\n",
    "            heroVictory = False\n",
    "            break\n",
    "    if heroVictory:\n",
    "        print(\"Through grave danger, you have triumphed, and rid the world of the horrible monster!\")\n",
    "    if not heroVictory:\n",
    "        print(\"Unfortunately, the monster has won! Try again next time!\")\n",
    "monsterBattler()"
   ]
  },
  {
   "cell_type": "code",
   "execution_count": null,
   "id": "d001bb32",
   "metadata": {},
   "outputs": [],
   "source": [
    "\n",
    "\n"
   ]
  },
  {
   "cell_type": "code",
   "execution_count": null,
   "id": "1d1e6424",
   "metadata": {},
   "outputs": [],
   "source": []
  }
 ],
 "metadata": {
  "kernelspec": {
   "display_name": "Python 3 (ipykernel)",
   "language": "python",
   "name": "python3"
  },
  "language_info": {
   "codemirror_mode": {
    "name": "ipython",
    "version": 3
   },
   "file_extension": ".py",
   "mimetype": "text/x-python",
   "name": "python",
   "nbconvert_exporter": "python",
   "pygments_lexer": "ipython3",
   "version": "3.10.9"
  }
 },
 "nbformat": 4,
 "nbformat_minor": 5
}
